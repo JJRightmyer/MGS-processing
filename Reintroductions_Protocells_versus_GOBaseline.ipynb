{
 "cells": [
  {
   "cell_type": "markdown",
   "metadata": {},
   "source": [
    "Based off of this answer: https://stackoverflow.com/questions/12065885/filter-dataframe-rows-if-value-in-column-is-in-a-set-list-of-values"
   ]
  },
  {
   "cell_type": "markdown",
   "metadata": {},
   "source": [
    "Read in the baseline data (259 Genes with 346 GO IDs)"
   ]
  },
  {
   "cell_type": "code",
   "execution_count": 17,
   "metadata": {},
   "outputs": [
    {
     "data": {
      "text/html": [
       "<div>\n",
       "<style scoped>\n",
       "    .dataframe tbody tr th:only-of-type {\n",
       "        vertical-align: middle;\n",
       "    }\n",
       "\n",
       "    .dataframe tbody tr th {\n",
       "        vertical-align: top;\n",
       "    }\n",
       "\n",
       "    .dataframe thead th {\n",
       "        text-align: right;\n",
       "    }\n",
       "</style>\n",
       "<table border=\"1\" class=\"dataframe\">\n",
       "  <thead>\n",
       "    <tr style=\"text-align: right;\">\n",
       "      <th></th>\n",
       "      <th>GeneID</th>\n",
       "      <th>GOID</th>\n",
       "      <th>GOTerms</th>\n",
       "    </tr>\n",
       "  </thead>\n",
       "  <tbody>\n",
       "    <tr>\n",
       "      <td>342</td>\n",
       "      <td>MG_126</td>\n",
       "      <td>GO:0006436</td>\n",
       "      <td>tryptophanyl-tRNA aminoacylation</td>\n",
       "    </tr>\n",
       "    <tr>\n",
       "      <td>343</td>\n",
       "      <td>MG_455</td>\n",
       "      <td>GO:0006437</td>\n",
       "      <td>tyrosyl-tRNA aminoacylation</td>\n",
       "    </tr>\n",
       "    <tr>\n",
       "      <td>344</td>\n",
       "      <td>MG_030</td>\n",
       "      <td>GO:0044206</td>\n",
       "      <td>UMP salvage</td>\n",
       "    </tr>\n",
       "    <tr>\n",
       "      <td>345</td>\n",
       "      <td>MG_030</td>\n",
       "      <td>GO:0006223</td>\n",
       "      <td>uracil salvage</td>\n",
       "    </tr>\n",
       "    <tr>\n",
       "      <td>346</td>\n",
       "      <td>MG_334</td>\n",
       "      <td>GO:0006438</td>\n",
       "      <td>valyl-tRNA aminoacylation</td>\n",
       "    </tr>\n",
       "  </tbody>\n",
       "</table>\n",
       "</div>"
      ],
      "text/plain": [
       "     GeneID        GOID                           GOTerms\n",
       "342  MG_126  GO:0006436  tryptophanyl-tRNA aminoacylation\n",
       "343  MG_455  GO:0006437       tyrosyl-tRNA aminoacylation\n",
       "344  MG_030  GO:0044206                       UMP salvage\n",
       "345  MG_030  GO:0006223                    uracil salvage\n",
       "346  MG_334  GO:0006438         valyl-tRNA aminoacylation"
      ]
     },
     "execution_count": 17,
     "metadata": {},
     "output_type": "execute_result"
    }
   ],
   "source": [
    "import pandas as pd\n",
    "df = pd.read_csv('GObaseline.txt', sep=\"\\t\")\n",
    "df.tail(5)"
   ]
  },
  {
   "cell_type": "markdown",
   "metadata": {},
   "source": [
    "Read in reintroduction gene deletion list as a 1D vertical dataframe, convert to a list."
   ]
  },
  {
   "cell_type": "code",
   "execution_count": 18,
   "metadata": {},
   "outputs": [
    {
     "name": "stdout",
     "output_type": "stream",
     "text": [
      "['MG_022', 'MG_034', 'MG_037', 'MG_038', 'MG_042', 'MG_043', 'MG_044', 'MG_045', 'MG_049', 'MG_051', 'MG_053', 'MG_071', 'MG_077', 'MG_078', 'MG_079', 'MG_080', 'MG_091', 'MG_098', 'MG_099', 'MG_100', 'MG_106', 'MG_114', 'MG_118', 'MG_128', 'MG_137', 'MG_179', 'MG_180', 'MG_181', 'MG_182', 'MG_203', 'MG_204', 'MG_221', 'MG_238', 'MG_245', 'MG_270', 'MG_271', 'MG_272', 'MG_273', 'MG_274', 'MG_275', 'MG_276', 'MG_278', 'MG_287', 'MG_299', 'MG_302', 'MG_303', 'MG_304', 'MG_321', 'MG_322', 'MG_323', 'MG_330', 'MG_342', 'MG_347', 'MG_357', 'MG_365', 'MG_368', 'MG_372', 'MG_382', 'MG_383', 'MG_419', 'MG_434', 'MG_444', 'MG_453', 'MG_469', 'MG_470', 'MG_473', 'MG_481', 'MG_517', 'MG_039', 'MG_104', 'MG_289', 'MG_290', 'MG_291', 'MG_427']\n"
     ]
    }
   ],
   "source": [
    "df2 = pd.read_csv('reintroduction_church.txt', sep=\"\\t\")\n",
    "df2.columns = ['a']\n",
    "reintrolist = df2['a'].values.tolist()\n",
    "print(reintrolist)"
   ]
  },
  {
   "cell_type": "markdown",
   "metadata": {},
   "source": [
    "Make a dataframe by comparing the baseline and reintroduction lists.\n",
    "Those GeneIDs in the baseline AND in the reintroduction list are kept in the new list.\n",
    "Export the new list to a CSV."
   ]
  },
  {
   "cell_type": "code",
   "execution_count": 19,
   "metadata": {},
   "outputs": [
    {
     "data": {
      "text/html": [
       "<div>\n",
       "<style scoped>\n",
       "    .dataframe tbody tr th:only-of-type {\n",
       "        vertical-align: middle;\n",
       "    }\n",
       "\n",
       "    .dataframe tbody tr th {\n",
       "        vertical-align: top;\n",
       "    }\n",
       "\n",
       "    .dataframe thead th {\n",
       "        text-align: right;\n",
       "    }\n",
       "</style>\n",
       "<table border=\"1\" class=\"dataframe\">\n",
       "  <thead>\n",
       "    <tr style=\"text-align: right;\">\n",
       "      <th></th>\n",
       "      <th>GeneID</th>\n",
       "      <th>GOID</th>\n",
       "      <th>GOTerms</th>\n",
       "    </tr>\n",
       "  </thead>\n",
       "  <tbody>\n",
       "    <tr>\n",
       "      <td>324</td>\n",
       "      <td>MG_044</td>\n",
       "      <td>GO:0006810</td>\n",
       "      <td>transport</td>\n",
       "    </tr>\n",
       "    <tr>\n",
       "      <td>327</td>\n",
       "      <td>MG_179</td>\n",
       "      <td>GO:0006810</td>\n",
       "      <td>transport</td>\n",
       "    </tr>\n",
       "    <tr>\n",
       "      <td>328</td>\n",
       "      <td>MG_180</td>\n",
       "      <td>GO:0006810</td>\n",
       "      <td>transport</td>\n",
       "    </tr>\n",
       "    <tr>\n",
       "      <td>331</td>\n",
       "      <td>MG_289</td>\n",
       "      <td>GO:0006810</td>\n",
       "      <td>transport</td>\n",
       "    </tr>\n",
       "    <tr>\n",
       "      <td>332</td>\n",
       "      <td>MG_291</td>\n",
       "      <td>GO:0006810</td>\n",
       "      <td>transport</td>\n",
       "    </tr>\n",
       "  </tbody>\n",
       "</table>\n",
       "</div>"
      ],
      "text/plain": [
       "     GeneID        GOID    GOTerms\n",
       "324  MG_044  GO:0006810  transport\n",
       "327  MG_179  GO:0006810  transport\n",
       "328  MG_180  GO:0006810  transport\n",
       "331  MG_289  GO:0006810  transport\n",
       "332  MG_291  GO:0006810  transport"
      ]
     },
     "execution_count": 19,
     "metadata": {},
     "output_type": "execute_result"
    }
   ],
   "source": [
    "df3 = df[df['GeneID'].isin(reintrolist)]\n",
    "df3.to_csv('reintroductionChurchGOList.txt', sep='\\t')\n",
    "df3.tail(5)"
   ]
  },
  {
   "cell_type": "code",
   "execution_count": null,
   "metadata": {},
   "outputs": [],
   "source": []
  }
 ],
 "metadata": {
  "kernelspec": {
   "display_name": "Python 3",
   "language": "python",
   "name": "python3"
  },
  "language_info": {
   "codemirror_mode": {
    "name": "ipython",
    "version": 3
   },
   "file_extension": ".py",
   "mimetype": "text/x-python",
   "name": "python",
   "nbconvert_exporter": "python",
   "pygments_lexer": "ipython3",
   "version": "3.7.4"
  }
 },
 "nbformat": 4,
 "nbformat_minor": 2
}
